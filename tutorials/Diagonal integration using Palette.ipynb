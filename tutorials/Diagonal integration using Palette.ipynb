{
 "cells": [
  {
   "cell_type": "markdown",
   "id": "2abf38a0",
   "metadata": {},
   "source": [
    "# Diagonal integration using Palette"
   ]
  },
  {
   "cell_type": "markdown",
   "id": "4f462934",
   "metadata": {},
   "source": [
    "Palette employs a connected MBG for mosaic integration. However, in the absence of locally shared modalities, the task is essentially diagonal integration, which disrupts MBG connectivity. We restored cross-modality links by adding pseudo-modality nodes to the MBG.\n",
    "\n",
    "In this tutorial , we applied Palette on human kidney scRNA-seq and scATAC-seq data from [Muto, Y. et al. (2021)](https://doi.org/10.1038/s41467-021-22368-w) to demonstrate diagonal integration."
   ]
  },
  {
   "cell_type": "markdown",
   "id": "b29e3d42",
   "metadata": {},
   "source": [
    "## Pseudo-modality matrix construction"
   ]
  },
  {
   "cell_type": "markdown",
   "id": "fa40fbbb",
   "metadata": {},
   "source": [
    "In the diagonal integration task, the input data consists of two parts: **(1)** the original modality matrix of the data and **(2)** the pseudo-modality matrix. Here, we show how to generate the **pseudo-modality matrix**.\n",
    "\n",
    "We first read in the count matrix of both modalities and ATAC gene activity matrix."
   ]
  },
  {
   "cell_type": "code",
   "execution_count": 1,
   "id": "d0a3827b",
   "metadata": {
    "collapsed": true,
    "vscode": {
     "languageId": "r"
    }
   },
   "outputs": [
    {
     "name": "stderr",
     "output_type": "stream",
     "text": [
      "Attaching SeuratObject\n",
      "\n",
      "\n",
      "Attaching package: ‘dplyr’\n",
      "\n",
      "\n",
      "The following objects are masked from ‘package:stats’:\n",
      "\n",
      "    filter, lag\n",
      "\n",
      "\n",
      "The following objects are masked from ‘package:base’:\n",
      "\n",
      "    intersect, setdiff, setequal, union\n",
      "\n",
      "\n",
      "\n",
      "Attaching package: ‘data.table’\n",
      "\n",
      "\n",
      "The following objects are masked from ‘package:dplyr’:\n",
      "\n",
      "    between, first, last\n",
      "\n",
      "\n"
     ]
    }
   ],
   "source": [
    "library(Seurat)\n",
    "library(cowplot)\n",
    "library(dplyr)\n",
    "library(data.table)\n",
    "library(tibble)\n",
    "library(Matrix)"
   ]
  },
  {
   "cell_type": "code",
   "execution_count": 2,
   "id": "806b64ae",
   "metadata": {
    "collapsed": true,
    "vscode": {
     "languageId": "r"
    }
   },
   "outputs": [
    {
     "data": {
      "text/html": [
       "<table class=\"dataframe\">\n",
       "<caption>A matrix: 2 × 6 of type dbl</caption>\n",
       "<thead>\n",
       "\t<tr><th></th><th scope=col>used</th><th scope=col>(Mb)</th><th scope=col>gc trigger</th><th scope=col>(Mb)</th><th scope=col>max used</th><th scope=col>(Mb)</th></tr>\n",
       "</thead>\n",
       "<tbody>\n",
       "\t<tr><th scope=row>Ncells</th><td>  3033137</td><td> 162.0</td><td>  4815668</td><td> 257.2</td><td>  4815668</td><td> 257.2</td></tr>\n",
       "\t<tr><th scope=row>Vcells</th><td>246978509</td><td>1884.3</td><td>785712083</td><td>5994.6</td><td>653826125</td><td>4988.3</td></tr>\n",
       "</tbody>\n",
       "</table>\n"
      ],
      "text/latex": [
       "A matrix: 2 × 6 of type dbl\n",
       "\\begin{tabular}{r|llllll}\n",
       "  & used & (Mb) & gc trigger & (Mb) & max used & (Mb)\\\\\n",
       "\\hline\n",
       "\tNcells &   3033137 &  162.0 &   4815668 &  257.2 &   4815668 &  257.2\\\\\n",
       "\tVcells & 246978509 & 1884.3 & 785712083 & 5994.6 & 653826125 & 4988.3\\\\\n",
       "\\end{tabular}\n"
      ],
      "text/markdown": [
       "\n",
       "A matrix: 2 × 6 of type dbl\n",
       "\n",
       "| <!--/--> | used | (Mb) | gc trigger | (Mb) | max used | (Mb) |\n",
       "|---|---|---|---|---|---|---|\n",
       "| Ncells |   3033137 |  162.0 |   4815668 |  257.2 |   4815668 |  257.2 |\n",
       "| Vcells | 246978509 | 1884.3 | 785712083 | 5994.6 | 653826125 | 4988.3 |\n",
       "\n"
      ],
      "text/plain": [
       "       used      (Mb)   gc trigger (Mb)   max used  (Mb)  \n",
       "Ncells   3033137  162.0   4815668   257.2   4815668  257.2\n",
       "Vcells 246978509 1884.3 785712083  5994.6 653826125 4988.3"
      ]
     },
     "metadata": {},
     "output_type": "display_data"
    }
   ],
   "source": [
    "# gene activity matrix from Muto, Y. et al.\n",
    "\n",
    "setwd('/...')\n",
    "ga <- readRDS('./420eca96-b430-46ab-bba7-276ab09604dd.rds')\n",
    "ga_c <- ga@assays[[1]]@counts\n",
    "colnames(ga_c) <- paste0(colnames(ga_c),'_ATAC')\n",
    "ga_m <- ga@meta.data\n",
    "rownames(ga_m) <- colnames(ga_c)\n",
    "tmp <- CreateSeuratObject(ga_c,meta.data = ga_m)\n",
    "rm(ga,ga_c,ga_m)\n",
    "gc()\n",
    "ga <- tmp\n",
    "rm(tmp)"
   ]
  },
  {
   "cell_type": "code",
   "execution_count": 3,
   "id": "6eb18392",
   "metadata": {
    "vscode": {
     "languageId": "r"
    }
   },
   "outputs": [],
   "source": [
    "# ATAC count matrix\n",
    "atac <- Matrix::readMM('./atac.mtx')\n",
    "peak <- fread('./peak.csv',data.table = F)\n",
    "atac_meta <- fread('./atac_meta.csv',data.table = F)"
   ]
  },
  {
   "cell_type": "code",
   "execution_count": 4,
   "id": "6670ff80",
   "metadata": {
    "collapsed": true,
    "vscode": {
     "languageId": "r"
    }
   },
   "outputs": [
    {
     "name": "stderr",
     "output_type": "stream",
     "text": [
      "'as(<dgTMatrix>, \"dgCMatrix\")' is deprecated.\n",
      "Use 'as(., \"CsparseMatrix\")' instead.\n",
      "See help(\"Deprecated\") and help(\"Matrix-deprecated\").\n",
      "\n"
     ]
    }
   ],
   "source": [
    "atac <- t(atac)\n",
    "atac <- as(atac,'dgCMatrix')\n",
    "rownames(atac) <- paste0(peak[,1],'-',peak[,2],'-',peak[,3])\n",
    "rownames(atac_meta) <- paste0(atac_meta[,1],\"_ATAC\")\n",
    "colnames(atac) <- rownames(atac_meta)"
   ]
  },
  {
   "cell_type": "code",
   "execution_count": 5,
   "id": "f8929052",
   "metadata": {
    "vscode": {
     "languageId": "r"
    }
   },
   "outputs": [
    {
     "data": {
      "text/html": [
       "24205"
      ],
      "text/latex": [
       "24205"
      ],
      "text/markdown": [
       "24205"
      ],
      "text/plain": [
       "[1] 24205"
      ]
     },
     "metadata": {},
     "output_type": "display_data"
    }
   ],
   "source": [
    "length(intersect(colnames(atac),colnames(ga@assays[[1]]@counts)))"
   ]
  },
  {
   "cell_type": "code",
   "execution_count": 6,
   "id": "a0d2fb2a",
   "metadata": {
    "vscode": {
     "languageId": "r"
    }
   },
   "outputs": [],
   "source": [
    "ga <- subset(ga,cells = colnames(atac))"
   ]
  },
  {
   "cell_type": "code",
   "execution_count": 7,
   "id": "6ea0c952",
   "metadata": {
    "vscode": {
     "languageId": "r"
    }
   },
   "outputs": [],
   "source": [
    "# RNA count matrix\n",
    "rna <- Matrix::readMM('./rna.mtx')\n",
    "gene <- fread('./gene.csv',data.table = F)\n",
    "rna_meta <- fread('./rna_meta.csv',data.table = F)\n",
    "rna <- t(rna)\n",
    "rna <- as(rna,'dgCMatrix')\n",
    "rownames(rna) <- gene[,2]\n",
    "colnames(rna) <- rna_meta[,1]\n",
    "rna_obj <- CreateSeuratObject(rna)\n",
    "rna_obj <- NormalizeData(rna_obj) %>% FindVariableFeatures()"
   ]
  },
  {
   "cell_type": "code",
   "execution_count": 8,
   "id": "f99659ab",
   "metadata": {
    "vscode": {
     "languageId": "r"
    }
   },
   "outputs": [],
   "source": [
    "ga <- NormalizeData(ga)"
   ]
  },
  {
   "cell_type": "code",
   "execution_count": 9,
   "id": "2314866a",
   "metadata": {
    "vscode": {
     "languageId": "r"
    }
   },
   "outputs": [],
   "source": [
    "co_gene <- intersect(rna_obj@assays[[1]]@var.features,\n",
    "                     rownames(ga@assays[[1]]@counts))\n",
    "\n",
    "rna_n <- rna_obj@assays[[1]]@data[co_gene,]\n",
    "atac_n <- ga@assays[[1]]@data[co_gene,]"
   ]
  },
  {
   "cell_type": "code",
   "execution_count": 10,
   "id": "69c0c82a",
   "metadata": {
    "vscode": {
     "languageId": "r"
    }
   },
   "outputs": [
    {
     "data": {
      "text/html": [
       "1565"
      ],
      "text/latex": [
       "1565"
      ],
      "text/markdown": [
       "1565"
      ],
      "text/plain": [
       "[1] 1565"
      ]
     },
     "metadata": {},
     "output_type": "display_data"
    }
   ],
   "source": [
    "# check common feature number\n",
    "length(co_gene)"
   ]
  },
  {
   "cell_type": "code",
   "execution_count": 11,
   "id": "ca9efb58",
   "metadata": {
    "vscode": {
     "languageId": "r"
    }
   },
   "outputs": [
    {
     "data": {
      "text/html": [
       "19985"
      ],
      "text/latex": [
       "19985"
      ],
      "text/markdown": [
       "19985"
      ],
      "text/plain": [
       "[1] 19985"
      ]
     },
     "metadata": {},
     "output_type": "display_data"
    },
    {
     "data": {
      "text/html": [
       "24205"
      ],
      "text/latex": [
       "24205"
      ],
      "text/markdown": [
       "24205"
      ],
      "text/plain": [
       "[1] 24205"
      ]
     },
     "metadata": {},
     "output_type": "display_data"
    }
   ],
   "source": [
    "ncol(rna_n)\n",
    "ncol(atac_n)"
   ]
  },
  {
   "cell_type": "code",
   "execution_count": 12,
   "id": "c1c349b0",
   "metadata": {
    "vscode": {
     "languageId": "r"
    }
   },
   "outputs": [],
   "source": [
    "sub <- cbind(rna_n,atac_n)\n",
    "library(preprocessCore)\n",
    "\n",
    "# quantile normalize for pseudo-modality matrix\n",
    "sub_norm <- normalize.quantiles(as.matrix(sub))\n",
    "\n",
    "rna_q <- sub_norm[,1:19985]\n",
    "atac_q <- sub_norm[,19986:ncol(sub)]\n",
    "colnames(rna_q) <- colnames(rna_n)\n",
    "colnames(atac_q) <- colnames(atac_n)"
   ]
  },
  {
   "cell_type": "code",
   "execution_count": 13,
   "id": "c1d9b0ac",
   "metadata": {
    "vscode": {
     "languageId": "r"
    }
   },
   "outputs": [],
   "source": [
    "rownames(rna_q) <- rownames(atac_q) <- rownames(rna_n) <- rownames(atac_q) <- co_gene\n",
    "# saveRDS(as.data.frame(rna_q),'../RNA/co.rds')\n",
    "# saveRDS(as.data.frame(atac_q),'../ATAC/co.rds')"
   ]
  },
  {
   "cell_type": "markdown",
   "id": "4e795432",
   "metadata": {},
   "source": [
    "In the diagonal integration task, unimodal data can be directly input into the low-dimensional representation after dimensionality reduction. Here, we perform dimensionality reduction on ATAC and RNA."
   ]
  },
  {
   "cell_type": "code",
   "execution_count": 14,
   "id": "85b73c86",
   "metadata": {
    "collapsed": true,
    "vscode": {
     "languageId": "r"
    }
   },
   "outputs": [
    {
     "name": "stderr",
     "output_type": "stream",
     "text": [
      "Performing TF-IDF normalization\n",
      "\n",
      "Running SVD\n",
      "\n",
      "Warning message:\n",
      "“No assay specified, setting assay as RNA by default.”\n"
     ]
    }
   ],
   "source": [
    "atac_lsi <- Signac::RunTFIDF(atac) %>% Signac::RunSVD(.,scale.embeddings = F)\n",
    "# saveRDS(as.data.frame(atac_lsi@cell.embeddings[,2:50]),\n",
    "#         '../lsi.rds')"
   ]
  },
  {
   "cell_type": "code",
   "execution_count": 15,
   "id": "40694ed5",
   "metadata": {
    "collapsed": true,
    "vscode": {
     "languageId": "r"
    }
   },
   "outputs": [
    {
     "name": "stderr",
     "output_type": "stream",
     "text": [
      "Centering and scaling data matrix\n",
      "\n",
      "PC_ 1 \n",
      "Positive:  ENSG00000183747, ENSG00000066813, ENSG00000107611, ENSG00000148942, ENSG00000158296, ENSG00000165449, ENSG00000081479, ENSG00000124568, ENSG00000160282, ENSG00000250799 \n",
      "\t   ENSG00000080493, ENSG00000133401, ENSG00000171759, ENSG00000248373, ENSG00000109667, ENSG00000196549, ENSG00000149124, ENSG00000249378, ENSG00000108018, ENSG00000284418 \n",
      "\t   ENSG00000186335, ENSG00000100253, ENSG00000081800, ENSG00000136872, ENSG00000150275, ENSG00000079557, ENSG00000130707, ENSG00000122194, ENSG00000215277, ENSG00000258700 \n",
      "Negative:  ENSG00000164292, ENSG00000198929, ENSG00000166833, ENSG00000185774, ENSG00000138798, ENSG00000003147, ENSG00000226674, ENSG00000078114, ENSG00000134504, ENSG00000196428 \n",
      "\t   ENSG00000050628, ENSG00000151376, ENSG00000071909, ENSG00000129682, ENSG00000068366, ENSG00000109436, ENSG00000081803, ENSG00000154975, ENSG00000179399, ENSG00000115252 \n",
      "\t   ENSG00000182240, ENSG00000163082, ENSG00000154265, ENSG00000139144, ENSG00000146021, ENSG00000118473, ENSG00000171004, ENSG00000074410, ENSG00000184304, ENSG00000182389 \n",
      "PC_ 2 \n",
      "Positive:  ENSG00000138798, ENSG00000050628, ENSG00000166415, ENSG00000074410, ENSG00000179399, ENSG00000248905, ENSG00000003096, ENSG00000171004, ENSG00000164292, ENSG00000116679 \n",
      "\t   ENSG00000226674, ENSG00000071909, ENSG00000157388, ENSG00000185774, ENSG00000182389, ENSG00000134504, ENSG00000103460, ENSG00000070915, ENSG00000242029, ENSG00000139144 \n",
      "\t   ENSG00000148842, ENSG00000151136, ENSG00000129682, ENSG00000154265, ENSG00000074803, ENSG00000182985, ENSG00000140470, ENSG00000119121, ENSG00000258548, ENSG00000184672 \n",
      "Negative:  ENSG00000184005, ENSG00000183580, ENSG00000010810, ENSG00000134138, ENSG00000128567, ENSG00000163531, ENSG00000155816, ENSG00000169744, ENSG00000198838, ENSG00000266028 \n",
      "\t   ENSG00000206190, ENSG00000174099, ENSG00000153246, ENSG00000138193, ENSG00000112782, ENSG00000151490, ENSG00000162631, ENSG00000139304, ENSG00000144642, ENSG00000184937 \n",
      "\t   ENSG00000227954, ENSG00000127329, ENSG00000148516, ENSG00000116218, ENSG00000090376, ENSG00000161270, ENSG00000230027, ENSG00000113578, ENSG00000102755, ENSG00000241956 \n",
      "PC_ 3 \n",
      "Positive:  ENSG00000127329, ENSG00000169744, ENSG00000102755, ENSG00000120156, ENSG00000164035, ENSG00000174640, ENSG00000261371, ENSG00000157554, ENSG00000116016, ENSG00000046889 \n",
      "\t   ENSG00000172985, ENSG00000091428, ENSG00000172889, ENSG00000134138, ENSG00000162618, ENSG00000138411, ENSG00000104368, ENSG00000106991, ENSG00000204301, ENSG00000156049 \n",
      "\t   ENSG00000140945, ENSG00000155849, ENSG00000031081, ENSG00000168497, ENSG00000163072, ENSG00000196628, ENSG00000151702, ENSG00000067113, ENSG00000145990, ENSG00000188511 \n",
      "Negative:  ENSG00000155816, ENSG00000139304, ENSG00000151490, ENSG00000116218, ENSG00000162631, ENSG00000230027, ENSG00000227954, ENSG00000203710, ENSG00000113578, ENSG00000145808 \n",
      "\t   ENSG00000161270, ENSG00000112782, ENSG00000153246, ENSG00000126733, ENSG00000138193, ENSG00000163710, ENSG00000184937, ENSG00000123119, ENSG00000174776, ENSG00000257042 \n",
      "\t   ENSG00000206190, ENSG00000241956, ENSG00000183287, ENSG00000092445, ENSG00000170396, ENSG00000163995, ENSG00000136944, ENSG00000248115, ENSG00000140807, ENSG00000119771 \n",
      "PC_ 4 \n",
      "Positive:  ENSG00000109684, ENSG00000249601, ENSG00000143882, ENSG00000154678, ENSG00000144227, ENSG00000178538, ENSG00000157404, ENSG00000178031, ENSG00000147606, ENSG00000150782 \n",
      "\t   ENSG00000069122, ENSG00000165181, ENSG00000048740, ENSG00000173253, ENSG00000185352, ENSG00000113073, ENSG00000256249, ENSG00000172164, ENSG00000112530, ENSG00000135905 \n",
      "\t   ENSG00000237838, ENSG00000185274, ENSG00000148541, ENSG00000138795, ENSG00000278961, ENSG00000172348, ENSG00000216863, ENSG00000158816, ENSG00000147614, ENSG00000125257 \n",
      "Negative:  ENSG00000118473, ENSG00000074803, ENSG00000179399, ENSG00000171004, ENSG00000138798, ENSG00000182621, ENSG00000104237, ENSG00000169344, ENSG00000184304, ENSG00000154975 \n",
      "\t   ENSG00000003096, ENSG00000078328, ENSG00000169347, ENSG00000259754, ENSG00000159263, ENSG00000096060, ENSG00000112137, ENSG00000175048, ENSG00000197099, ENSG00000148053 \n",
      "\t   ENSG00000182985, ENSG00000152779, ENSG00000137872, ENSG00000123572, ENSG00000120658, ENSG00000185774, ENSG00000139220, ENSG00000014257, ENSG00000281131, ENSG00000223392 \n",
      "PC_ 5 \n",
      "Positive:  ENSG00000074803, ENSG00000182621, ENSG00000104237, ENSG00000169344, ENSG00000169347, ENSG00000165995, ENSG00000159263, ENSG00000152779, ENSG00000120658, ENSG00000096060 \n",
      "\t   ENSG00000148053, ENSG00000078328, ENSG00000033867, ENSG00000223392, ENSG00000149256, ENSG00000115252, ENSG00000113946, ENSG00000112137, ENSG00000271850, ENSG00000171004 \n",
      "\t   ENSG00000134121, ENSG00000281131, ENSG00000014257, ENSG00000255245, ENSG00000118473, ENSG00000163590, ENSG00000282278, ENSG00000107562, ENSG00000259754, ENSG00000228262 \n",
      "Negative:  ENSG00000139144, ENSG00000183023, ENSG00000166828, ENSG00000251504, ENSG00000155974, ENSG00000138696, ENSG00000083067, ENSG00000134532, ENSG00000226674, ENSG00000259905 \n",
      "\t   ENSG00000107485, ENSG00000128641, ENSG00000103460, ENSG00000180251, ENSG00000134240, ENSG00000168447, ENSG00000147481, ENSG00000142149, ENSG00000182132, ENSG00000104327 \n",
      "\t   ENSG00000179104, ENSG00000101871, ENSG00000081803, ENSG00000049130, ENSG00000112319, ENSG00000167580, ENSG00000115419, ENSG00000146038, ENSG00000145536, ENSG00000106617 \n",
      "\n"
     ]
    }
   ],
   "source": [
    "rna_obj <- ScaleData(rna_obj) %>% RunPCA()\n",
    "# saveRDS(as.data.frame(rna_obj[['pca']]@cell.embeddings),\n",
    "#         '../pca50.rds')\n",
    "# saveRDS(as.data.frame(rna_obj@assays[[1]]@counts[rna_obj@assays[[1]]@var.features,]),\n",
    "#        '../X.rds')"
   ]
  },
  {
   "cell_type": "markdown",
   "id": "704a915a",
   "metadata": {},
   "source": [
    "## Data input"
   ]
  },
  {
   "cell_type": "markdown",
   "id": "3d04d444",
   "metadata": {},
   "source": [
    "After constructing the pseudo-modality matrix, we can use **Palette** to perform diagonal integration. Here, to better demonstrate the operation process of Palette, we use RNA's count matrix as input. In actual integration tasks, users can use RNA's dimensionality reduction matrix (such as PCA embedding) as input"
   ]
  },
  {
   "cell_type": "code",
   "execution_count": 16,
   "id": "f61e3c10",
   "metadata": {
    "vscode": {
     "languageId": "r"
    }
   },
   "outputs": [],
   "source": [
    "library(Palette)\n",
    "library(uwot)\n",
    "library(RColorBrewer)\n",
    "library(ggplot2)\n",
    "library(RColorBrewer)\n",
    "library(scattermore)\n",
    "library(ggsci)"
   ]
  },
  {
   "cell_type": "markdown",
   "id": "4507df6c",
   "metadata": {},
   "source": [
    "# Create a Palette object"
   ]
  },
  {
   "cell_type": "markdown",
   "id": "260f8414",
   "metadata": {},
   "source": [
    "The object serves as a container that contains both data (like the count matrix) and analysis (like PCA, or clustering results) for multimodal dataset.\n",
    "\n",
    "**Palette** accepts data in **list format**, with each element representing a feature-by-cell data matrix. The modality and batch information for each input are provided through ```modals``` and ```samples```."
   ]
  },
  {
   "cell_type": "code",
   "execution_count": 17,
   "id": "ef1c1143",
   "metadata": {
    "vscode": {
     "languageId": "r"
    }
   },
   "outputs": [],
   "source": [
    "obj <- Create.Palette.Object(data.list = list(rna_obj@assays[[1]]@counts[rna_obj@assays[[1]]@var.features,],\n",
    "                             rna_q,t(atac_lsi@cell.embeddings[,2:50]),atac_q), \n",
    "                               samples = c('Batch1','Batch1','Batch2','Batch2'), \n",
    "                               modals = c(\"rna\",\"co\",\"atac\",\"co\"))\n",
    "\n",
    "rm(rna_obj,rna_q,atac_lsi,atac_q,sub_norm, sub,rna_n,atac_n,ga)"
   ]
  },
  {
   "cell_type": "markdown",
   "id": "23c54996",
   "metadata": {},
   "source": [
    "# Data preprocessing"
   ]
  },
  {
   "cell_type": "markdown",
   "id": "15111cf2",
   "metadata": {},
   "source": [
    "For the scRNA-seq data, we performed standard log-normalization using the NormalizeData function from the Seurat R package. We do not need to performed additional normalization for other modalities"
   ]
  },
  {
   "cell_type": "code",
   "execution_count": 18,
   "id": "bde15117",
   "metadata": {
    "vscode": {
     "languageId": "r"
    }
   },
   "outputs": [],
   "source": [
    "obj <- Normalize.Data(obj,modal = \"rna\",normal.method = \"LogNormalize\")\n",
    "\n",
    "obj@Assays[[2]]@data <- obj@Assays[[2]]@Raw\n",
    "obj@Assays[[3]]@data <- obj@Assays[[3]]@Raw\n",
    "obj@Assays[[4]]@data <- obj@Assays[[4]]@Raw"
   ]
  },
  {
   "cell_type": "code",
   "execution_count": 19,
   "id": "421bf2a1",
   "metadata": {
    "collapsed": true,
    "vscode": {
     "languageId": "r"
    }
   },
   "outputs": [
    {
     "name": "stderr",
     "output_type": "stream",
     "text": [
      "No features provide, use all shared features by default.\n",
      "\n",
      "No features provide, use all shared features by default.\n",
      "\n",
      "No features provide, use all shared features by default.\n",
      "\n"
     ]
    }
   ],
   "source": [
    "obj <- Add.HVFs(obj, modal = \"atac\")\n",
    "obj <- Add.HVFs(obj,modal = \"rna\")\n",
    "obj <- Add.HVFs(obj, modal = \"co\")"
   ]
  },
  {
   "cell_type": "markdown",
   "id": "438ae3f7",
   "metadata": {},
   "source": [
    "## Clustering and representative cells sampling"
   ]
  },
  {
   "cell_type": "markdown",
   "id": "b46ecdd1",
   "metadata": {},
   "source": [
    "Within each batch, **Palette** assigns cluster labels to cells using the Louvain algorithm. Next, **Palette** selects a subset of representative cells from each batch. Specifically, silhouette widths (SWs) are computed for all cells based on their clustering labels.\n",
    "Within each clustering label, cells are ranked by their SW values, and the top 25% (by default) are selected. By sampling representative cells, **Palette** is more robust to the low representative cells and is more computationally effective than using all cells in subsequent calculations."
   ]
  },
  {
   "cell_type": "code",
   "execution_count": 20,
   "id": "15216176",
   "metadata": {
    "collapsed": true,
    "vscode": {
     "languageId": "r"
    }
   },
   "outputs": [
    {
     "name": "stderr",
     "output_type": "stream",
     "text": [
      "Computing nearest neighbor graph\n",
      "\n",
      "Computing SNN\n",
      "\n"
     ]
    },
    {
     "name": "stdout",
     "output_type": "stream",
     "text": [
      "Modularity Optimizer version 1.3.0 by Ludo Waltman and Nees Jan van Eck\n",
      "\n",
      "Number of nodes: 19985\n",
      "Number of edges: 901228\n",
      "\n",
      "Running Louvain algorithm...\n",
      "Maximum modularity in 10 random starts: 0.9068\n",
      "Number of communities: 31\n",
      "Elapsed time: 2 seconds\n"
     ]
    },
    {
     "name": "stderr",
     "output_type": "stream",
     "text": [
      "Computing nearest neighbor graph\n",
      "\n",
      "Computing SNN\n",
      "\n"
     ]
    },
    {
     "name": "stdout",
     "output_type": "stream",
     "text": [
      "Modularity Optimizer version 1.3.0 by Ludo Waltman and Nees Jan van Eck\n",
      "\n",
      "Number of nodes: 24205\n",
      "Number of edges: 1086255\n",
      "\n",
      "Running Louvain algorithm...\n",
      "Maximum modularity in 10 random starts: 0.8900\n",
      "Number of communities: 22\n",
      "Elapsed time: 3 seconds\n"
     ]
    }
   ],
   "source": [
    "obj <- Find.Cluster(object = obj, \n",
    "                         modal = c(\"co\"),\n",
    "                         dims = list(1:50),\n",
    "                         method = c(\"PCA\"))"
   ]
  },
  {
   "cell_type": "markdown",
   "id": "3e155708",
   "metadata": {},
   "source": [
    "## Intra-modal joint dimensionality reduction using Bi-sPCA"
   ]
  },
  {
   "cell_type": "markdown",
   "id": "16035c21",
   "metadata": {},
   "source": [
    "If modalities are present in only a single batch, standard techniques such as singular value decomposition (SVD), PCA, or latent semantic indexing (LSI) are applied directly. For modalities that appear in multiple batches, **Palette** independently integrating each data modality across batches using **Bi-supervised Principal Component Analysis (Bi-sPCA)**, a new dimensionality reduction model aiming to disentangle biological signals from technical effects. **Bi-sPCA** operates on kernel representations of both biological and technical variation, learning a projection that maximizes biological variation in the embedding while minimizing unwanted technical effects.\n",
    "\n",
    "The ```IsolatedModalEmbedding``` function is used for data dimensionality reduction. Here, since ATAC inputs a matrix that has already been dimensionality reduced, we do not need to perform further dimensionality reduction on it."
   ]
  },
  {
   "cell_type": "code",
   "execution_count": 21,
   "id": "fd5db52c",
   "metadata": {
    "vscode": {
     "languageId": "r"
    }
   },
   "outputs": [],
   "source": [
    "obj <- IsolatedModalEmbedding(obj,modal = 'rna',\n",
    "                                   method = c('PCA'),\n",
    "                                   dims = list(1:30))\n",
    "\n",
    "obj@Assays[[3]]@embedding <- as.matrix(obj@Assays[[3]]@Raw[1:30,])"
   ]
  },
  {
   "cell_type": "markdown",
   "id": "3067df4f",
   "metadata": {},
   "source": [
    "**Palette** constructs the biological effect kernel using a threshold $T = max\\{T_1,\\; T_2\\}$ to filter unreliable connections, where $T_1$ is a global modality-specific threshold which can set manually by ```max.Angle``` and $T_2=cos(\\theta_c+\\theta_m)$ is an angular similarity constraint, where $\\theta_c$ is the median angle of cell expression vectors within a batch, and $\\theta_m$ is is a modality-specific angular offset which can set manually by ```Angle.var```."
   ]
  },
  {
   "cell_type": "code",
   "execution_count": 22,
   "id": "1c18deea",
   "metadata": {
    "collapsed": true,
    "vscode": {
     "languageId": "r"
    }
   },
   "outputs": [
    {
     "name": "stderr",
     "output_type": "stream",
     "text": [
      "Performing dimensionality reduction and L2 normalization. \n",
      "\n",
      "\n",
      "Dimensionality reduction and L2 normalization done! \n",
      "\n",
      "\n",
      "Identifying batch-specific cluster median cosine similarity. \n",
      "\n",
      "\n",
      "Done !\n",
      "\n"
     ]
    }
   ],
   "source": [
    "obj <- Find.Subspace(obj,modal = c(\"co\"),\n",
    "                     lambda = list(0.9),\n",
    "                     sub.dims = list(1:30),\n",
    "                     Angle.var = c(30),\n",
    "                     max.Angle = c(60))"
   ]
  },
  {
   "cell_type": "markdown",
   "id": "d05a7b93",
   "metadata": {},
   "source": [
    "## MBG-guided inferring of missing modality matrices and Cross-batch alignment"
   ]
  },
  {
   "cell_type": "markdown",
   "id": "d01ff7a7",
   "metadata": {},
   "source": [
    "**Palette** constructs a **mosaic bipartite graph (MBG)** to capture the structural topology of data. The **MBG** is an undirected, unweighted, and connected bipartite graph where nodes represent batches and modalities, and edges indicate the presence of a given modality in a batch. This graph sequentially connects the partially overlapping modalities across batches. For batches that lack measurements in specific modalities, **Palette** identifies shortest paths in the **MBG** that connect the batch to the missing modality. These paths define biologically informed propagation routes across the latent spaces of the shared modalities, enabling inference of low-dimensional representations for unobserved modalities by transferring information through matched neighbors across batches. **Palette** employs multiple paths to infer the missing data for each cell in a weighted approach. Finally, both real and inferred representations of all batches are jointly embedded into a unified low-dimensional space using **Bi-sPCA** again."
   ]
  },
  {
   "cell_type": "code",
   "execution_count": 23,
   "id": "7ebf482b",
   "metadata": {
    "collapsed": true,
    "vscode": {
     "languageId": "r"
    }
   },
   "outputs": [
    {
     "name": "stderr",
     "output_type": "stream",
     "text": [
      "Constructing MBG.\n",
      "\n",
      "MBG Done!\n",
      "\n",
      "Inferring missing modality matrices guided by MBG.\n",
      "\n",
      "\n",
      "Performing inference for modal \"atac\" of  sample \"Batch1\" in embedding space.\n",
      "\n",
      "\n",
      "Performing inference for modal \"rna\" of  sample \"Batch2\" in embedding space.\n",
      "\n",
      "\n",
      "MBG-guided inferring Done.\n",
      "\n",
      "\n",
      "Cross-batch alignment.\n",
      "\n",
      "\n",
      "Palette integration Done! \n",
      "\n",
      "\n"
     ]
    }
   ],
   "source": [
    "obj <- Run.Palette(obj)"
   ]
  },
  {
   "cell_type": "markdown",
   "id": "bba7d44d",
   "metadata": {},
   "source": [
    "## Visualization"
   ]
  },
  {
   "cell_type": "code",
   "execution_count": 25,
   "id": "4a445892",
   "metadata": {
    "vscode": {
     "languageId": "r"
    }
   },
   "outputs": [],
   "source": [
    "meta <- readRDS('./meta.rds')\n",
    "meta <- meta[,c(1,2,4)]\n",
    "colnames(meta) <- c('Barcode','CellType','Modality')"
   ]
  },
  {
   "cell_type": "code",
   "execution_count": 26,
   "id": "1ae20aff",
   "metadata": {
    "vscode": {
     "languageId": "r"
    }
   },
   "outputs": [],
   "source": [
    "Palette_emb <- as.matrix(obj@Int.result[[\"bind\"]][rownames(meta),])\n",
    "Palette_umap = as.data.frame(umap(Palette_emb))\n",
    "colnames(Palette_umap) = c(\"UMAP1\", \"UMAP2\")\n",
    "Palette_umap = cbind.data.frame(meta, Palette_umap)\n",
    "fig.size = function(height, width) {\n",
    "    options(repr.plot.height = height, repr.plot.width = width, repr.plot.res = 300)\n",
    "}"
   ]
  },
  {
   "cell_type": "code",
   "execution_count": 27,
   "id": "c1d6694b",
   "metadata": {
    "vscode": {
     "languageId": "r"
    }
   },
   "outputs": [
    {
     "name": "stderr",
     "output_type": "stream",
     "text": [
      "Warning message in brewer.pal(12, \"Accent\"):\n",
      "“n too large, allowed maximum for palette Accent is 8\n",
      "Returning the palette you asked for with that many colors\n",
      "”\n"
     ]
    },
    {
     "data": {
      "image/png": "[encoded data removed]",
      "text/plain": [
       "plot without title"
      ]
     },
     "metadata": {
      "image/png": {
       "height": 600,
       "width": 1500
      }
     },
     "output_type": "display_data"
    }
   ],
   "source": [
    "p1 <- ggplot(Palette_umap, aes(UMAP1, UMAP2, color = Modality)) +\n",
    "  geom_scattermore(pointsize = 1) +\n",
    "  scale_color_npg() +\n",
    "  guides(colour = guide_legend(override.aes = list(size = 2))) +\n",
    "  theme_classic()+\n",
    "  theme(legend.position = \"right\")\n",
    "\n",
    "Colors = colorRampPalette(brewer.pal(12, \"Accent\"))(13)\n",
    "p2 <- ggplot(Palette_umap, aes(UMAP1, UMAP2, color = CellType)) +\n",
    "  geom_scattermore(pointsize = 1) +\n",
    "  scale_color_manual(values = Colors) +  \n",
    "  guides(colour = guide_legend(override.aes = list(size = 2))) +\n",
    "  theme_classic()+\n",
    "  theme(legend.position = \"right\")\n",
    "\n",
    "\n",
    "fig.size(4,10)\n",
    "plot_grid(p1, p2, align = 'h', axis = \"b\",nrow = 1,rel_widths = c(5,5))"
   ]
  },
  {
   "cell_type": "markdown",
   "id": "f28148df",
   "metadata": {},
   "source": [
    "## Session Info"
   ]
  },
  {
   "cell_type": "code",
   "execution_count": 28,
   "id": "08f5ca96",
   "metadata": {
    "vscode": {
     "languageId": "r"
    }
   },
   "outputs": [
    {
     "data": {
      "text/plain": [
       "R version 4.2.3 (2023-03-15)\n",
       "Platform: x86_64-conda-linux-gnu (64-bit)\n",
       "Running under: Ubuntu 22.10\n",
       "\n",
       "Matrix products: default\n",
       "BLAS/LAPACK: /home/server/anaconda3/envs/sqy/lib/libopenblasp-r0.3.21.so\n",
       "\n",
       "locale:\n",
       " [1] LC_CTYPE=en_US.UTF-8       LC_NUMERIC=C              \n",
       " [3] LC_TIME=en_US.UTF-8        LC_COLLATE=en_US.UTF-8    \n",
       " [5] LC_MONETARY=en_US.UTF-8    LC_MESSAGES=en_US.UTF-8   \n",
       " [7] LC_PAPER=en_US.UTF-8       LC_NAME=C                 \n",
       " [9] LC_ADDRESS=C               LC_TELEPHONE=C            \n",
       "[11] LC_MEASUREMENT=en_US.UTF-8 LC_IDENTIFICATION=C       \n",
       "\n",
       "attached base packages:\n",
       "[1] stats     graphics  grDevices utils     datasets  methods   base     \n",
       "\n",
       "other attached packages:\n",
       " [1] ggsci_3.0.3           scattermore_1.2       ggplot2_3.5.1        \n",
       " [4] RColorBrewer_1.1-3    uwot_0.2.2            Palette_0.1.0        \n",
       " [7] preprocessCore_1.60.2 Matrix_1.6-5          tibble_3.2.1         \n",
       "[10] data.table_1.17.4     dplyr_1.1.4           cowplot_1.1.3        \n",
       "[13] SeuratObject_4.1.4    Seurat_4.4.0         \n",
       "\n",
       "loaded via a namespace (and not attached):\n",
       "  [1] uuid_1.2-0             fastmatch_1.1-4        plyr_1.8.9            \n",
       "  [4] igraph_2.0.3           repr_1.1.7             lazyeval_0.2.2        \n",
       "  [7] sp_2.1-4               splines_4.2.3          BiocParallel_1.32.6   \n",
       " [10] listenv_0.9.1          GenomeInfoDb_1.34.9    digest_0.6.36         \n",
       " [13] foreach_1.5.2          htmltools_0.5.8.1      fansi_1.0.6           \n",
       " [16] magrittr_2.0.3         tensor_1.5             cluster_2.1.6         \n",
       " [19] doParallel_1.0.17      ROCR_1.0-11            bigassertr_0.1.6      \n",
       " [22] bigstatsr_1.5.12       globals_0.16.3         Biostrings_2.66.0     \n",
       " [25] matrixStats_1.1.0      spatstat.sparse_3.0-3  colorspace_2.1-1      \n",
       " [28] ggrepel_0.9.5          crayon_1.5.3           RCurl_1.98-1.16       \n",
       " [31] jsonlite_1.8.8         RcppArmadillo_14.0.2-1 progressr_0.14.0      \n",
       " [34] spatstat.data_3.0-4    survival_3.6-4         flock_0.7             \n",
       " [37] zoo_1.8-12             iterators_1.0.14       glue_1.8.0            \n",
       " [40] polyclip_1.10-6        gtable_0.3.6           zlibbioc_1.44.0       \n",
       " [43] XVector_0.38.0         leiden_0.4.3.1         future.apply_1.11.2   \n",
       " [46] BiocGenerics_0.44.0    abind_1.4-5            scales_1.3.0          \n",
       " [49] Signac_1.11.0          bigparallelr_0.3.2     spatstat.random_3.2-3 \n",
       " [52] miniUI_0.1.1.1         Rcpp_1.0.13            viridisLite_0.4.2     \n",
       " [55] xtable_1.8-4           reticulate_1.36.1      stats4_4.2.3          \n",
       " [58] htmlwidgets_1.6.4      httr_1.4.7             ica_1.0-3             \n",
       " [61] farver_2.1.2           pkgconfig_2.0.3        deldir_2.0-4          \n",
       " [64] utf8_1.2.4             labeling_0.4.3         tidyselect_1.2.1      \n",
       " [67] rlang_1.1.6            reshape2_1.4.4         later_1.3.2           \n",
       " [70] munsell_0.5.1          tools_4.2.3            cli_3.6.3             \n",
       " [73] generics_0.1.3         ggridges_0.5.6         evaluate_0.23         \n",
       " [76] stringr_1.5.1          fastmap_1.2.0          goftest_1.2-3         \n",
       " [79] fitdistrplus_1.1-11    purrr_1.0.2            RANN_2.6.1            \n",
       " [82] pbapply_1.7-2          future_1.33.2          nlme_3.1-164          \n",
       " [85] mime_0.12              RcppRoll_0.3.0         compiler_4.2.3        \n",
       " [88] plotly_4.10.4          png_0.1-8              spatstat.utils_3.1-5  \n",
       " [91] stringi_1.8.4          RSpectra_0.16-1        lattice_0.22-6        \n",
       " [94] IRdisplay_1.1          vctrs_0.6.5            pillar_1.9.0          \n",
       " [97] lifecycle_1.0.4        spatstat.geom_3.2-9    lmtest_0.9-40         \n",
       "[100] RcppAnnoy_0.0.22       bitops_1.0-8           irlba_2.3.5.1         \n",
       "[103] httpuv_1.6.15          patchwork_1.2.0        GenomicRanges_1.50.2  \n",
       "[106] R6_2.5.1               promises_1.3.0         KernSmooth_2.23-22    \n",
       "[109] gridExtra_2.3          IRanges_2.32.0         parallelly_1.37.1     \n",
       "[112] codetools_0.2-20       MASS_7.3-60            withr_3.0.2           \n",
       "[115] sctransform_0.4.1      Rsamtools_2.14.0       harmony_1.2.0         \n",
       "[118] S4Vectors_0.36.2       GenomeInfoDbData_1.2.9 parallel_4.2.3        \n",
       "[121] grid_4.2.3             IRkernel_1.3.2         tidyr_1.3.1           \n",
       "[124] Cairo_1.6-2            Rtsne_0.17             pbdZMQ_0.3-11         \n",
       "[127] spatstat.explore_3.2-7 shiny_1.8.1.1          base64enc_0.1-3       "
      ]
     },
     "metadata": {},
     "output_type": "display_data"
    }
   ],
   "source": [
    "sessionInfo()"
   ]
  },
  {
   "cell_type": "code",
   "execution_count": null,
   "id": "89f1cdce",
   "metadata": {
    "vscode": {
     "languageId": "r"
    }
   },
   "outputs": [],
   "source": []
  }
 ],
 "metadata": {
  "kernelspec": {
   "display_name": "sqy-r",
   "language": "R",
   "name": "sqy-r"
  },
  "language_info": {
   "codemirror_mode": "r",
   "file_extension": ".r",
   "mimetype": "text/x-r-source",
   "name": "R",
   "pygments_lexer": "r",
   "version": "4.2.3"
  }
 },
 "nbformat": 4,
 "nbformat_minor": 5
}
